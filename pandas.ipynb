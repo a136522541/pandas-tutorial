{
 "cells": [
  {
   "cell_type": "code",
   "execution_count": 3,
   "metadata": {
    "collapsed": true
   },
   "outputs": [],
   "source": [
    "import pandas as pd\n",
    "import numpy as np\n",
    "import matplotlib.pyplot as plt"
   ]
  },
  {
   "cell_type": "markdown",
   "metadata": {},
   "source": [
    "导入pandas numpy matplotlib"
   ]
  },
  {
   "cell_type": "markdown",
   "metadata": {},
   "source": [
    "用pd.Series创建对象，它只有一列，索引由程序自动生成"
   ]
  },
  {
   "cell_type": "code",
   "execution_count": 5,
   "metadata": {},
   "outputs": [
    {
     "name": "stdout",
     "output_type": "stream",
     "text": [
      "0    1.0\n",
      "1    3.0\n",
      "2    5.0\n",
      "3    NaN\n",
      "4    6.0\n",
      "5    8.0\n",
      "dtype: float64\n"
     ]
    }
   ],
   "source": [
    "s = pd.Series([1,3,5,np.nan,6,8])\n",
    "print(s)"
   ]
  },
  {
   "cell_type": "markdown",
   "metadata": {},
   "source": [
    "用pd.DataFrame可以创建多列数据表"
   ]
  },
  {
   "cell_type": "code",
   "execution_count": 8,
   "metadata": {},
   "outputs": [
    {
     "name": "stdout",
     "output_type": "stream",
     "text": [
      "          A         B         C         D\n",
      "0  0.629356  1.186796 -1.636572  1.337970\n",
      "1  0.109559 -1.148689 -2.082819 -0.115893\n",
      "2  0.527746  0.046948  0.076636 -1.050893\n",
      "3 -0.990850 -1.513290  3.124437 -1.117682\n",
      "4 -0.148350  0.462121  0.963671 -2.248079\n",
      "5  0.738116 -0.529389  0.354351 -1.337248\n"
     ]
    }
   ],
   "source": [
    "df = pd.DataFrame(np.random.randn(6,4),columns=list('ABCD'))\n",
    "print(df)"
   ]
  },
  {
   "cell_type": "markdown",
   "metadata": {},
   "source": [
    "如果参数是一个dict，每个dict的value会转化为一个Series"
   ]
  },
  {
   "cell_type": "code",
   "execution_count": 13,
   "metadata": {},
   "outputs": [
    {
     "name": "stdout",
     "output_type": "stream",
     "text": [
      "   A          B  C  D\n",
      "0  1 2018-01-14  1  3\n",
      "1  1 2018-01-14  2  3\n",
      "2  1 2018-01-14  1  3\n",
      "3  1 2018-01-14  2  3\n"
     ]
    }
   ],
   "source": [
    "df2 = pd.DataFrame({'A':1,'B':pd.Timestamp('20180114'),'C':pd.Series([1,2]*2),'D':np.array([3]*4)})\n",
    "print(df2)"
   ]
  },
  {
   "cell_type": "markdown",
   "metadata": {},
   "source": [
    "可以有很多方式查看数据"
   ]
  },
  {
   "cell_type": "code",
   "execution_count": 14,
   "metadata": {},
   "outputs": [
    {
     "name": "stdout",
     "output_type": "stream",
     "text": [
      "          A         B         C         D\n",
      "0  0.629356  1.186796 -1.636572  1.337970\n",
      "1  0.109559 -1.148689 -2.082819 -0.115893\n",
      "2  0.527746  0.046948  0.076636 -1.050893\n",
      "3 -0.990850 -1.513290  3.124437 -1.117682\n",
      "4 -0.148350  0.462121  0.963671 -2.248079\n",
      "          A         B         C         D\n",
      "1  0.109559 -1.148689 -2.082819 -0.115893\n",
      "2  0.527746  0.046948  0.076636 -1.050893\n",
      "3 -0.990850 -1.513290  3.124437 -1.117682\n",
      "4 -0.148350  0.462121  0.963671 -2.248079\n",
      "5  0.738116 -0.529389  0.354351 -1.337248\n",
      "              A         B         C         D\n",
      "count  6.000000  6.000000  6.000000  6.000000\n",
      "mean   0.144263 -0.249251  0.133284 -0.755304\n",
      "std    0.649668  1.014029  1.883195  1.230965\n",
      "min   -0.990850 -1.513290 -2.082819 -2.248079\n",
      "25%   -0.083873 -0.993864 -1.208270 -1.282356\n",
      "50%    0.318652 -0.241221  0.215494 -1.084287\n",
      "75%    0.603954  0.358327  0.811341 -0.349643\n",
      "max    0.738116  1.186796  3.124437  1.337970\n",
      "<class 'pandas.core.frame.DataFrame'>\n",
      "RangeIndex: 6 entries, 0 to 5\n",
      "Data columns (total 4 columns):\n",
      "A    6 non-null float64\n",
      "B    6 non-null float64\n",
      "C    6 non-null float64\n",
      "D    6 non-null float64\n",
      "dtypes: float64(4)\n",
      "memory usage: 272.0 bytes\n",
      "None\n"
     ]
    }
   ],
   "source": [
    "print(df.head())#查看数据头几行，默认查看头5行\n",
    "print(df.tail())#查看数据尾几行，默认查看尾5行\n",
    "print(df.describe())#查看每列的统计数据\n",
    "print(df.info())#查看每列的数据类型"
   ]
  },
  {
   "cell_type": "markdown",
   "metadata": {},
   "source": [
    "DataFrame内部是用numpy储存的，可以单独打印index和columns"
   ]
  },
  {
   "cell_type": "code",
   "execution_count": 18,
   "metadata": {},
   "outputs": [
    {
     "name": "stdout",
     "output_type": "stream",
     "text": [
      "RangeIndex(start=0, stop=6, step=1)\n",
      "Index(['A', 'B', 'C', 'D'], dtype='object')\n",
      "[[ 0.62935646  1.18679642 -1.63657226  1.3379703 ]\n",
      " [ 0.10955859 -1.14868945 -2.08281941 -0.11589319]\n",
      " [ 0.52774633  0.04694752  0.07663626 -1.05089271]\n",
      " [-0.99084977 -1.51329016  3.12443674 -1.11768194]\n",
      " [-0.14835018  0.46212058  0.96367111 -2.24807938]\n",
      " [ 0.73811632 -0.52938865  0.35435118 -1.33724795]]\n"
     ]
    }
   ],
   "source": [
    "print(df.index)\n",
    "print(df.columns)\n",
    "print(df.values)"
   ]
  },
  {
   "cell_type": "markdown",
   "metadata": {},
   "source": [
    "DataFrame可以很容易就按某一列进行排序"
   ]
  },
  {
   "cell_type": "code",
   "execution_count": 21,
   "metadata": {},
   "outputs": [
    {
     "name": "stdout",
     "output_type": "stream",
     "text": [
      "          A         B         C         D\n",
      "3 -0.990850 -1.513290  3.124437 -1.117682\n",
      "1  0.109559 -1.148689 -2.082819 -0.115893\n",
      "5  0.738116 -0.529389  0.354351 -1.337248\n",
      "2  0.527746  0.046948  0.076636 -1.050893\n",
      "4 -0.148350  0.462121  0.963671 -2.248079\n",
      "0  0.629356  1.186796 -1.636572  1.337970\n"
     ]
    }
   ],
   "source": [
    "print(df.sort_values(by='B'))"
   ]
  },
  {
   "cell_type": "markdown",
   "metadata": {},
   "source": [
    "从DataFrame有多种方式获取行和列"
   ]
  },
  {
   "cell_type": "code",
   "execution_count": 40,
   "metadata": {},
   "outputs": [
    {
     "name": "stdout",
     "output_type": "stream",
     "text": [
      "0    0.629356\n",
      "1    0.109559\n",
      "2    0.527746\n",
      "3   -0.990850\n",
      "4   -0.148350\n",
      "5    0.738116\n",
      "Name: A, dtype: float64\n",
      "          A         B         C         D\n",
      "0  0.629356  1.186796 -1.636572  1.337970\n",
      "1  0.109559 -1.148689 -2.082819 -0.115893\n",
      "2  0.527746  0.046948  0.076636 -1.050893\n",
      "          A         B         C         D\n",
      "0  0.629356  1.186796 -1.636572  1.337970\n",
      "2  0.527746  0.046948  0.076636 -1.050893\n",
      "4 -0.148350  0.462121  0.963671 -2.248079\n"
     ]
    }
   ],
   "source": [
    "print(df['A'])\n",
    "print(df[0:3])#可以用类似numpy的方法获取\n",
    "print(df[ (df['B']>0)])\n"
   ]
  },
  {
   "cell_type": "markdown",
   "metadata": {},
   "source": [
    "可以用loc方法，用索引来获取行列"
   ]
  },
  {
   "cell_type": "code",
   "execution_count": 41,
   "metadata": {},
   "outputs": [
    {
     "name": "stdout",
     "output_type": "stream",
     "text": [
      "          A         B\n",
      "0  0.629356  1.186796\n",
      "1  0.109559 -1.148689\n",
      "2  0.527746  0.046948\n",
      "3 -0.990850 -1.513290\n",
      "          A         B         C         D\n",
      "0  0.629356  1.186796 -1.636572  1.337970\n",
      "2  0.527746  0.046948  0.076636 -1.050893\n"
     ]
    }
   ],
   "source": [
    "print(df.loc[0:3,['A','B']])#获取A，B行的所有列，其中行跟列分别用逗号分隔，此处的0:3是索引值，在DataFrame中此值可以设为其他数字或变量\n",
    "print(df.loc[(df['A']>0) & (df['B']>0)])"
   ]
  },
  {
   "cell_type": "markdown",
   "metadata": {},
   "source": [
    "可以用iloc方法，通过整数下标的方法获取行列"
   ]
  },
  {
   "cell_type": "code",
   "execution_count": 43,
   "metadata": {},
   "outputs": [
    {
     "name": "stdout",
     "output_type": "stream",
     "text": [
      "          A         B         C         D\n",
      "0  0.629356  1.186796 -1.636572  1.337970\n",
      "1  0.109559 -1.148689 -2.082819 -0.115893\n",
      "2  0.527746  0.046948  0.076636 -1.050893\n",
      "          A         B\n",
      "0  0.629356  1.186796\n",
      "1  0.109559 -1.148689\n"
     ]
    }
   ],
   "source": [
    "print(df.iloc[0:3])#此处0:3就是0-3行，包括第三行\n",
    "print(df.iloc[0:2,0:2])#输出0-2行，0-2列"
   ]
  },
  {
   "cell_type": "markdown",
   "metadata": {},
   "source": [
    "可以用isin函数挑出包含某个值的行"
   ]
  },
  {
   "cell_type": "code",
   "execution_count": 46,
   "metadata": {},
   "outputs": [
    {
     "name": "stdout",
     "output_type": "stream",
     "text": [
      "          A         B         C         D      E\n",
      "0  0.629356  1.186796 -1.636572  1.337970    one\n",
      "1  0.109559 -1.148689 -2.082819 -0.115893    one\n",
      "2  0.527746  0.046948  0.076636 -1.050893    two\n",
      "3 -0.990850 -1.513290  3.124437 -1.117682  three\n",
      "4 -0.148350  0.462121  0.963671 -2.248079   four\n",
      "5  0.738116 -0.529389  0.354351 -1.337248  three\n",
      "          A         B         C         D      E\n",
      "2  0.527746  0.046948  0.076636 -1.050893    two\n",
      "3 -0.990850 -1.513290  3.124437 -1.117682  three\n",
      "5  0.738116 -0.529389  0.354351 -1.337248  three\n"
     ]
    }
   ],
   "source": [
    "df2 = df.copy()\n",
    "df2['E'] = ['one', 'one','two','three','four','three']\n",
    "print(df2)\n",
    "print(df2[df2['E'].isin(['two','three'])])"
   ]
  },
  {
   "cell_type": "markdown",
   "metadata": {},
   "source": [
    "用loc方法挑出行和列后，赋值也非常简单"
   ]
  },
  {
   "cell_type": "code",
   "execution_count": 63,
   "metadata": {},
   "outputs": [
    {
     "name": "stdout",
     "output_type": "stream",
     "text": [
      "     A         B         C         D  E\n",
      "0  1.0  1.186796 -1.636572  1.337970  1\n",
      "1  1.0 -1.148689 -2.082819 -0.115893  1\n",
      "2  1.0  0.046948  0.076636 -1.050893  1\n",
      "3 -1.0 -1.513290  3.124437 -1.117682  1\n",
      "4 -1.0  0.462121  0.963671 -2.248079  1\n",
      "5  1.0 -0.529389  0.354351 -1.337248  1\n"
     ]
    }
   ],
   "source": [
    "df2.loc[df2['A']>0,['A']] = 1\n",
    "df2.loc[df2['A']<0,['A']] = -1\n",
    "print(df2)"
   ]
  },
  {
   "cell_type": "markdown",
   "metadata": {},
   "source": [
    "缺失值一般用NaN表示，处理缺失值的方法有多种"
   ]
  },
  {
   "cell_type": "code",
   "execution_count": 68,
   "metadata": {},
   "outputs": [
    {
     "name": "stdout",
     "output_type": "stream",
     "text": [
      "     A         B         C         D    E\n",
      "0  1.0  1.186796 -1.636572  1.337970  1.0\n",
      "1  1.0 -1.148689 -2.082819 -0.115893  2.0\n",
      "2  1.0  0.046948  0.076636 -1.050893  NaN\n",
      "3 -1.0 -1.513290  3.124437 -1.117682  3.0\n",
      "4 -1.0  0.462121  0.963671 -2.248079  NaN\n",
      "5  1.0 -0.529389  0.354351 -1.337248  4.0\n"
     ]
    }
   ],
   "source": [
    "E = pd.Series([1,2,np.nan,3,np.nan,4])\n",
    "df2['E'] = E\n",
    "print(df2)"
   ]
  },
  {
   "cell_type": "code",
   "execution_count": 71,
   "metadata": {},
   "outputs": [
    {
     "name": "stdout",
     "output_type": "stream",
     "text": [
      "     A         B         C         D    E\n",
      "0  1.0  1.186796 -1.636572  1.337970  1.0\n",
      "1  1.0 -1.148689 -2.082819 -0.115893  2.0\n",
      "3 -1.0 -1.513290  3.124437 -1.117682  3.0\n",
      "5  1.0 -0.529389  0.354351 -1.337248  4.0\n",
      "     A         B         C         D     E\n",
      "0  1.0  1.186796 -1.636572  1.337970   1.0\n",
      "1  1.0 -1.148689 -2.082819 -0.115893   2.0\n",
      "2  1.0  0.046948  0.076636 -1.050893  99.0\n",
      "3 -1.0 -1.513290  3.124437 -1.117682   3.0\n",
      "4 -1.0  0.462121  0.963671 -2.248079  99.0\n",
      "5  1.0 -0.529389  0.354351 -1.337248   4.0\n",
      "       A      B      C      D      E\n",
      "0  False  False  False  False  False\n",
      "1  False  False  False  False  False\n",
      "2  False  False  False  False   True\n",
      "3  False  False  False  False  False\n",
      "4  False  False  False  False   True\n",
      "5  False  False  False  False  False\n"
     ]
    }
   ],
   "source": [
    "print(df2.dropna())#删除包含缺失值的行\n",
    "print(df2.fillna(99))#缺失值用99代替\n",
    "print(df2.isnull())#用布尔值表示数据是否缺失"
   ]
  },
  {
   "cell_type": "markdown",
   "metadata": {},
   "source": [
    "Group是pandas一个比较好的功能，可以将数据按不同列分组"
   ]
  },
  {
   "cell_type": "code",
   "execution_count": 73,
   "metadata": {},
   "outputs": [
    {
     "name": "stdout",
     "output_type": "stream",
     "text": [
      "     A      B         C         D\n",
      "0  foo    one  1.168524  0.678967\n",
      "1  bar    one  2.355531  0.101427\n",
      "2  foo    two -0.654319 -0.650751\n",
      "3  bar  three  0.586599  1.538395\n",
      "4  foo    two -0.764113 -0.197873\n",
      "5  bar    two  1.475903  1.474302\n",
      "6  foo    one  2.511095  0.566545\n",
      "7  foo  three  0.121238  0.619929\n"
     ]
    }
   ],
   "source": [
    "df = pd.DataFrame({'A' : ['foo', 'bar', 'foo', 'bar',\n",
    "                          'foo', 'bar', 'foo', 'foo'],\n",
    "                   'B' : ['one', 'one', 'two', 'three',\n",
    "                           'two', 'two', 'one', 'three'],\n",
    "                    'C' : np.random.randn(8),\n",
    "                    'D' : np.random.randn(8)})\n",
    "print(df)"
   ]
  },
  {
   "cell_type": "code",
   "execution_count": 82,
   "metadata": {},
   "outputs": [
    {
     "name": "stdout",
     "output_type": "stream",
     "text": [
      "            C         D\n",
      "A                      \n",
      "bar  1.472678  1.038041\n",
      "foo  0.476485  0.203364\n",
      "                  C         D\n",
      "A   B                        \n",
      "bar one    2.355531  0.101427\n",
      "    three  0.586599  1.538395\n",
      "    two    1.475903  1.474302\n",
      "foo one    3.679619  1.245512\n",
      "    three  0.121238  0.619929\n",
      "    two   -1.418432 -0.848623\n"
     ]
    }
   ],
   "source": [
    "print(df.groupby('A').mean())#将数据中A值相同的数据分成一组，再求mean\n",
    "print(df.groupby(['A','B']).sum())#将数据中A和B值都相同的数据分成一组，再求sum"
   ]
  },
  {
   "cell_type": "markdown",
   "metadata": {},
   "source": [
    "pandas另一强大的功能是可视化，可以利用matplotlib绘制简单的图"
   ]
  },
  {
   "cell_type": "code",
   "execution_count": 104,
   "metadata": {},
   "outputs": [
    {
     "name": "stdout",
     "output_type": "stream",
     "text": [
      "          A         B\n",
      "0 -1.086123  0.872584\n",
      "1 -0.412281  1.597947\n",
      "2  0.061370  1.135882\n",
      "3 -0.874508  0.218450\n",
      "4 -0.100618  0.510832\n",
      "5  1.577165 -2.562004\n",
      "6  0.107558  0.602162\n",
      "7 -0.138369  2.144317\n",
      "8  0.689548 -1.844944\n",
      "9 -0.359631  1.526853\n"
     ]
    },
    {
     "data": {
      "image/png": "[encoded data removed]",
      "text/plain": [
       "<matplotlib.figure.Figure at 0x109d73048>"
      ]
     },
     "metadata": {},
     "output_type": "display_data"
    }
   ],
   "source": [
    "import pandas as pd\n",
    "import numpy as np\n",
    "\n",
    "df = pd.DataFrame(np.random.randn(10,2), columns=list('AB'))\n",
    "\n",
    "print(df)\n",
    "df.plot()\n",
    "\n",
    "plt.show()"
   ]
  },
  {
   "cell_type": "markdown",
   "metadata": {},
   "source": [
    "plot默认是绘画折线图，除此之外可以用plot(kind='')改变样式，包括：\n",
    ">* bar 条形图\n",
    ">* hist 直方图\n",
    ">* boxplot 盒形图\n",
    ">* area 面积图\n",
    ">* scatter 散点图"
   ]
  },
  {
   "cell_type": "code",
   "execution_count": 118,
   "metadata": {},
   "outputs": [
    {
     "name": "stdout",
     "output_type": "stream",
     "text": [
      "          a         b\n",
      "0  0.931857  0.669250\n",
      "1  0.590954  0.928967\n",
      "2  0.511700  0.619746\n",
      "3  0.833791  0.023494\n",
      "4  0.284540  0.185807\n",
      "5  0.211308  0.490545\n",
      "6  0.413806  0.977588\n",
      "7  0.351612  0.848414\n",
      "8  0.528836  0.407761\n",
      "9  0.456605  0.276113\n"
     ]
    },
    {
     "data": {
      "image/png": "[encoded data removed]",
      "text/plain": [
       "<matplotlib.figure.Figure at 0x109f50da0>"
      ]
     },
     "metadata": {},
     "output_type": "display_data"
    },
    {
     "data": {
      "image/png": "[encoded data removed]",
      "text/plain": [
       "<matplotlib.figure.Figure at 0x10a0ed390>"
      ]
     },
     "metadata": {},
     "output_type": "display_data"
    }
   ],
   "source": [
    "df = pd.DataFrame(np.random.rand(10,2),columns=['a','b'])\n",
    "print(df)\n",
    "df.plot(kind='bar')\n",
    "df.plot(kind='bar',stacked='True')#stacked='True'可以生成堆积图\n",
    "plt.show()"
   ]
  },
  {
   "cell_type": "markdown",
   "metadata": {},
   "source": [
    "以下代码可以用于画直方图"
   ]
  },
  {
   "cell_type": "code",
   "execution_count": 123,
   "metadata": {},
   "outputs": [
    {
     "data": {
      "image/png": "[encoded data removed]",
      "text/plain": [
       "<matplotlib.figure.Figure at 0x109dcbdd8>"
      ]
     },
     "metadata": {},
     "output_type": "display_data"
    },
    {
     "data": {
      "image/png": "[encoded data removed]",
      "text/plain": [
       "<matplotlib.figure.Figure at 0x108d912b0>"
      ]
     },
     "metadata": {},
     "output_type": "display_data"
    }
   ],
   "source": [
    "df = pd.DataFrame({'a':np.random.randn(1000)+1,'b':np.random.randn(1000),'c':\n",
    "np.random.randn(1000) - 1}, columns=['a', 'b', 'c'])\n",
    "\n",
    "df.plot(kind='hist',bins=20)#hist用于画直方图，可以用bins指定bin数目\n",
    "df.hist(bins=20)#用于为每列数据单独画直方图\n",
    "plt.show()"
   ]
  },
  {
   "cell_type": "markdown",
   "metadata": {},
   "source": [
    "以下代码可以用于画散点图"
   ]
  },
  {
   "cell_type": "code",
   "execution_count": 124,
   "metadata": {},
   "outputs": [
    {
     "data": {
      "image/png": "[encoded data removed]",
      "text/plain": [
       "<matplotlib.figure.Figure at 0x109a047f0>"
      ]
     },
     "metadata": {},
     "output_type": "display_data"
    }
   ],
   "source": [
    "df.plot(kind='scatter',x='a',y='b')\n",
    "plt.show()"
   ]
  },
  {
   "cell_type": "markdown",
   "metadata": {},
   "source": [
    "以下代码可以用于画饼图"
   ]
  },
  {
   "cell_type": "code",
   "execution_count": 133,
   "metadata": {},
   "outputs": [
    {
     "data": {
      "image/png": "[encoded data removed]",
      "text/plain": [
       "<matplotlib.figure.Figure at 0x10a6d9208>"
      ]
     },
     "metadata": {},
     "output_type": "display_data"
    }
   ],
   "source": [
    "df = pd.DataFrame(3 * np.random.rand(4), index=['a', 'b', 'c', 'd'], columns=['x'])\n",
    "df.plot(kind='pie',subplots=True)\n",
    "plt.show()\n"
   ]
  },
  {
   "cell_type": "code",
   "execution_count": null,
   "metadata": {
    "collapsed": true
   },
   "outputs": [],
   "source": []
  }
 ],
 "metadata": {
  "kernelspec": {
   "display_name": "Python 3",
   "language": "python",
   "name": "python3"
  },
  "language_info": {
   "codemirror_mode": {
    "name": "ipython",
    "version": 3
   },
   "file_extension": ".py",
   "mimetype": "text/x-python",
   "name": "python",
   "nbconvert_exporter": "python",
   "pygments_lexer": "ipython3",
   "version": "3.6.4"
  }
 },
 "nbformat": 4,
 "nbformat_minor": 2
}
